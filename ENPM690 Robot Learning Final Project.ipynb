{
 "cells": [
  {
   "cell_type": "markdown",
   "metadata": {},
   "source": [
    "# Training an Autonomous Cab to pick up and drop passengers using Q-Learning\n",
    "Author: <b> Akshitha Pothamshetty </b>\n",
    "UID: <b>116399326</b>\n",
    "About: <b>M.Eng Robotics 2020, University of Maryland, College Park</b>"
   ]
  },
  {
   "cell_type": "markdown",
   "metadata": {},
   "source": [
    "## About Project\n",
    "<p style='text-align: justify;'>\n",
    "In this project, I have used Reinforcement Learning to pick up and drop off passengers at the right locations. I have used Q-Learning to train the model. To keep the focus on applying Q-Learning, I have used existing OpenAI GYM environment, Taxi-v3. This task was introduced in [Dietterich2000] to illustrate some issues in hierarchical reinforcement learning. There are 4 locations (labeled by different letters) and our job is to pick up the passenger at one location and drop him off in another. We receive +20 points for a successful dropoff, and lose 1 point for every timestep it takes. There is also a 10 point penalty for illegal pick-up and drop-off actions.\n",
    "\n",
    "\n",
    "In this notebook, I will go through the project step by step.\n",
    "</p>"
   ]
  },
  {
   "cell_type": "markdown",
   "metadata": {},
   "source": [
    "### 1: Install and import dependencies\n",
    "<p style='text-align: justify;'>\n",
    "Following packages needs to be installed successfully for executing rest of the notebook:\n",
    "1. CMAKE\n",
    "2. Scipy\n",
    "3. Numpy\n",
    "4. Atari Gym\n",
    "</p>"
   ]
  },
  {
   "cell_type": "code",
   "execution_count": 3,
   "metadata": {},
   "outputs": [],
   "source": [
    "!pip install cmake matplotlib scipy numpy 'gym[atari]' # Run only once."
   ]
  },
  {
   "cell_type": "code",
   "execution_count": 6,
   "metadata": {},
   "outputs": [
    {
     "name": "stdout",
     "output_type": "stream",
     "text": [
      "+---------+\n",
      "|\u001b[35mR\u001b[0m: | : :\u001b[34;1m\u001b[43mG\u001b[0m\u001b[0m|\n",
      "| : | : : |\n",
      "| : : : : |\n",
      "| | : | : |\n",
      "|Y| : |B: |\n",
      "+---------+\n",
      "\n",
      "Property: Action Space Discrete(6)\n",
      "Property: State Space Discrete(500)\n"
     ]
    }
   ],
   "source": [
    "import gym # Import OpenAI GYM package\n",
    "from IPython.display import clear_output, Markdown, display # For visualization\n",
    "from time import sleep # For visualization\n",
    "import random # Randomly generating states\n",
    "import numpy as np # For Q-Table\n",
    "import matplotlib.pyplot as plt\n",
    "from scipy.signal import savgol_filter\n",
    "\n",
    "random.seed(42) # Setting random state for consistent results.\n",
    "\n",
    "\n",
    "env = gym.make(\"Taxi-v3\").env # Using existing Taxi-V3 environment\n",
    "\n",
    "# Generate a random environment\n",
    "env.reset()\n",
    "env.render()\n",
    "\n",
    "# Properties of our environment\n",
    "print(\"Property: Action Space {}\".format(env.action_space))\n",
    "print(\"Property: State Space {}\".format(env.observation_space))"
   ]
  },
  {
   "cell_type": "markdown",
   "metadata": {},
   "source": [
    "### 2: Explore our environment\n",
    "<p style='text-align: justify;'>\n",
    "Our environment consists of 6 actions:\n",
    "\n",
    "1. Go South\n",
    "2. Go North\n",
    "3. Go East\n",
    "4. Go West\n",
    "5. Pick Up Passenger\n",
    "6. Drop Off a Passenger\n",
    "\n",
    "Our environment consists of 500 possible states:\n",
    "* It is a 5x5 grid, with 4 pick up or drop off location, with one additional state of passenger being inside the taxi:\n",
    "\n",
    "* 5x5 x (4+1) x 4 = 500 states\n",
    "</p>"
   ]
  },
  {
   "cell_type": "code",
   "execution_count": 7,
   "metadata": {},
   "outputs": [
    {
     "name": "stdout",
     "output_type": "stream",
     "text": [
      "Out of 500 possible states, our unique state ID is: 323\n",
      "+---------+\n",
      "|\u001b[34;1mR\u001b[0m: | : :G|\n",
      "| : | : : |\n",
      "| : : : : |\n",
      "| |\u001b[43m \u001b[0m: | : |\n",
      "|Y| : |\u001b[35mB\u001b[0m: |\n",
      "+---------+\n",
      "\n",
      "Action: [Probability, NextState, Reward, GoalReached]\n"
     ]
    },
    {
     "data": {
      "text/plain": [
       "{0: [(1.0, 423, -1, False)],\n",
       " 1: [(1.0, 223, -1, False)],\n",
       " 2: [(1.0, 343, -1, False)],\n",
       " 3: [(1.0, 323, -1, False)],\n",
       " 4: [(1.0, 323, -10, False)],\n",
       " 5: [(1.0, 323, -10, False)]}"
      ]
     },
     "execution_count": 7,
     "metadata": {},
     "output_type": "execute_result"
    }
   ],
   "source": [
    "# Drop off and pick up locations are indexed from 0-3 for the four \n",
    "# different  locations.\n",
    "\n",
    "# Let's initiate a forced state:\n",
    "# Taxi at: (3,1), Pick Up at R(0)(Blue) and Drop Off at B(3)(Pink)\n",
    "\n",
    "initialState = env.encode(3, 1, 0, 3)\n",
    "print \"Out of 500 possible states, our unique state ID is:\", initialState\n",
    "\n",
    "env.s = initialState # set the environment\n",
    "env.render()\n",
    "\n",
    "# Let's see the possible action space in this state\n",
    "print \"Action: [Probability, NextState, Reward, GoalReached]\"\n",
    "env.P[initialState]"
   ]
  },
  {
   "cell_type": "markdown",
   "metadata": {},
   "source": [
    "### 3: Establish a baseline, using Brute Force Approach\n",
    "<p style='text-align: justify;'>\n",
    "We will use a Brute force approach to establish a baseline. We will ask the taxi to reach the goal state with no intelligence at all. It will choose a random state to reach the goal. We will evaluate how the model performs from here.\n",
    "</p>"
   ]
  },
  {
   "cell_type": "code",
   "execution_count": 8,
   "metadata": {},
   "outputs": [],
   "source": [
    "# Create a visualizer function\n",
    "def print_frames(frames, episode=1, verbose=False):\n",
    "    for i, frame in enumerate(frames):\n",
    "        clear_output(wait=True)\n",
    "        print(frame['frame'])\n",
    "        if (verbose):\n",
    "            print(\"\\nEpisode Number {}\".format(episode))\n",
    "        print(\"Timestep: {}\".format(i + 1))\n",
    "        print(\"State: {}\".format(frame['state']))\n",
    "        print(\"Action: {}\".format(frame['action']))\n",
    "        print(\"Reward: {}\".format(frame['reward']))\n",
    "        sleep(.1)\n",
    "\n",
    "def printmd(string):\n",
    "    display(Markdown(string))"
   ]
  },
  {
   "cell_type": "code",
   "execution_count": 12,
   "metadata": {},
   "outputs": [
    {
     "name": "stdout",
     "output_type": "stream",
     "text": [
      "+---------+\n",
      "|R: | : :G|\n",
      "| : | : : |\n",
      "| : : : : |\n",
      "| | : | : |\n",
      "|Y| : |\u001b[35m\u001b[34;1m\u001b[43mB\u001b[0m\u001b[0m\u001b[0m: |\n",
      "+---------+\n",
      "  (Dropoff)\n",
      "\n",
      "Timestep: 508\n",
      "State: 475\n",
      "Action: 5\n",
      "Reward: 20\n",
      "\n",
      "Steps taken: 508\n",
      "Penalties incurred: 163\n"
     ]
    }
   ],
   "source": [
    "env.s = initialState  # Set environment to initial state.\n",
    "\n",
    "epochs = 0\n",
    "penalties, reward = 0, 0\n",
    "\n",
    "frames = [] # for animation\n",
    "\n",
    "done = False\n",
    "\n",
    "while not done:\n",
    "    action = env.action_space.sample()\n",
    "    state, reward, done, info = env.step(action)\n",
    "\n",
    "    if reward == -10:\n",
    "        penalties += 1\n",
    "    \n",
    "    # Put each rendered frame into dict for animation\n",
    "    frames.append({\n",
    "        'frame': env.render(mode='ansi'),\n",
    "        'state': state,\n",
    "        'action': action,\n",
    "        'reward': reward\n",
    "        }\n",
    "    )\n",
    "\n",
    "    epochs += 1\n",
    "\n",
    "# Start visualization only if steps taken are less than 1000. Otherwise it takes too long.\n",
    "if epochs < 1000:\n",
    "    print_frames(frames)\n",
    "\n",
    "print(\"\\nSteps taken: {}\".format(epochs))\n",
    "print(\"Penalties incurred: {}\".format(penalties))"
   ]
  },
  {
   "cell_type": "markdown",
   "metadata": {},
   "source": [
    "### 4: Train the model using Reinforcement Learning\n",
    "<p style='text-align: justify;'>\n",
    "Using a Q-Learning approach to train the model. Q-learning lets the agent use the environment's rewards to learn, over time, the best action to take in a given state. For this purpose, we will create a Q-table to store Q-values, that map to a state and corresponding action combination. A Q-value for a particular state-action combination is representative of the \"quality\" of an action taken from that state. Better Q-values imply better chances of getting greater rewards.\n",
    "\n",
    "For evaluation of the model, We will keep a track of how many timesteps and number of penalties incurred while training the model.\n",
    "</p>"
   ]
  },
  {
   "cell_type": "code",
   "execution_count": 14,
   "metadata": {},
   "outputs": [
    {
     "name": "stdout",
     "output_type": "stream",
     "text": [
      "Training ongoing...\n",
      "Successfully completed 100000 Pick-Drop episodes.\n",
      "Training finished.\n",
      "\n",
      "CPU times: user 3min 23s, sys: 3.25 s, total: 3min 26s\n",
      "Wall time: 3min 25s\n"
     ]
    }
   ],
   "source": [
    "%%time\n",
    "\n",
    "# initialize a q-table to store q-values for each state-action pair.\n",
    "q_table = np.zeros([env.observation_space.n, env.action_space.n]) # Initialize a q-table with zeros\n",
    "\n",
    "print\"Training the agent .. .. ..\" # Typically takes around 3m 17seconds around\n",
    "\n",
    "# Hyperparameters\n",
    "alpha = 0.1\n",
    "gamma = 0.6\n",
    "epsilon = 1.0\n",
    "min_epsilon = 0.1\n",
    "max_epsilon = 1.00\n",
    "\n",
    "# For plotting metrics\n",
    "all_epochs = []\n",
    "all_penalties = []\n",
    "all_epsilons = []\n",
    "\n",
    "frames = [] # for animation\n",
    "rewards = [] # for analyzing training.\n",
    "\n",
    "for episode in range(1, 100001):\n",
    "    state = env.reset()\n",
    "    episode_rewards = []\n",
    "\n",
    "    epochs, penalties, reward = 0, 0, 0\n",
    "    done = False\n",
    "    \n",
    "    while not done:\n",
    "        # Explore Action Space\n",
    "        if random.uniform(0, 1) < min_epsilon:\n",
    "            action = env.action_space.sample()\n",
    "        # Exploit learned Values\n",
    "        else:\n",
    "            action = np.argmax(q_table[state])\n",
    "\n",
    "        # Get next state, reward, goal_status\n",
    "        next_state, reward, done, info = env.step(action)\n",
    "        \n",
    "        # current q-value\n",
    "        old_value = q_table[state, action]\n",
    "        next_max = np.max(q_table[next_state])\n",
    "        \n",
    "        # Learning: update current q-value based on best chosen next step\n",
    "        new_value = (1 - alpha) * old_value + alpha * (reward + gamma * next_max)\n",
    "        q_table[state, action] = new_value\n",
    "        \n",
    "        if done:\n",
    "            epsilon = min_epsilon + (max_epsilon - min_epsilon)*np.exp(-0.0001*episode)\n",
    "            all_epsilons.append(epsilon)\n",
    "        # check if penalties incurred\n",
    "        if reward == -10:\n",
    "            penalties += 1\n",
    "        \n",
    "        episode_rewards.append(reward)\n",
    "\n",
    "        # update state\n",
    "        state = next_state\n",
    "        epochs += 1\n",
    "        \n",
    "        # Put each rendered frame into dict for animation\n",
    "        frames.append({\n",
    "            'frame': env.render(mode='ansi'),\n",
    "            'state': state,\n",
    "            'action': action,\n",
    "            'reward': reward\n",
    "            }\n",
    "        )\n",
    "    \n",
    "    rewards.append(np.mean(episode_rewards))\n",
    "    # render training progress\n",
    "    if episode % 100 == 0:\n",
    "        clear_output(wait=True)\n",
    "        print(\"Training ongoing...\\nSuccessfully completed {} Pick-Drop episodes.\".format(episode))\n",
    "\n",
    "print(\"Training finished.\\n\")"
   ]
  },
  {
   "cell_type": "code",
   "execution_count": 49,
   "metadata": {},
   "outputs": [
    {
     "data": {
      "image/png": "[encoded data removed]",
      "text/plain": [
       "<matplotlib.figure.Figure at 0x7f2eae6153d0>"
      ]
     },
     "metadata": {},
     "output_type": "display_data"
    }
   ],
   "source": [
    "plt.figure(figsize=(16, 8), dpi= 80, facecolor='w', edgecolor='k')\n",
    "plt.plot(savgol_filter(rewards, 1001, 2))\n",
    "plt.title(\"Smoothened training reward per episode\")\n",
    "plt.xlabel('Episode');\n",
    "plt.ylabel('Total Reward');"
   ]
  },
  {
   "cell_type": "markdown",
   "metadata": {},
   "source": [
    "As we can see, rewards are getting more and more positive as the training continues and starts to converge once the model is trained. Depending on the graph, 25,000 epochs seem enough to train the agent successfully."
   ]
  },
  {
   "cell_type": "code",
   "execution_count": 68,
   "metadata": {},
   "outputs": [
    {
     "data": {
      "image/png": "[encoded data removed]",
      "text/plain": [
       "<matplotlib.figure.Figure at 0x7f2eae5efdd0>"
      ]
     },
     "metadata": {},
     "output_type": "display_data"
    }
   ],
   "source": [
    "plt.figure(figsize=(16, 8), dpi= 80, facecolor='w', edgecolor='k')\n",
    "plt.plot(all_epsilons)\n",
    "plt.title(\"Epsilon for episode\")\n",
    "plt.xlabel('Episode');\n",
    "plt.ylabel('Epsilon');"
   ]
  },
  {
   "cell_type": "markdown",
   "metadata": {},
   "source": [
    "<p style='text-align: justify;'>\n",
    "Epsilon is the exploration factor. It shuffles the model from exploration mode to exploitation mode. Exploration is finding new information about the environment. Whereas, Exploitation using existing information to maximize the reward. Initially, our driving agent knows pretty much nothing about the best set of driving directions for picking up and dropping off passengers. After good amount of exploration, we want our agent to switch to exploitation mode. Eventually, all choices will be based on what is learned.\n",
    "    \n",
    "In this graph, we can see how it decreases over training. Lower values of epsilon switches the agent to exploitation model. This is a desired trend.\n",
    "</p>"
   ]
  },
  {
   "cell_type": "markdown",
   "metadata": {},
   "source": [
    "### 5: Analyze what the model has learned\n",
    "\n",
    "We want to see if the model has learned to take optimum steps from any state to reach a goal position."
   ]
  },
  {
   "cell_type": "code",
   "execution_count": 5,
   "metadata": {},
   "outputs": [
    {
     "name": "stdout",
     "output_type": "stream",
     "text": [
      "Example 1: Passenger inside taxi - To be dropped at location: 0\n",
      "+---------+\n",
      "|\u001b[35mR\u001b[0m: | : :G|\n",
      "| : | : : |\n",
      "|\u001b[42m_\u001b[0m: : : : |\n",
      "| | : | : |\n",
      "|Y| : |B: |\n",
      "+---------+\n",
      "  (Dropoff)\n",
      "Best Action: North \n",
      "Q-Value: 5.6\n",
      "\n",
      "--------------------------------------------------------\n",
      "\n",
      "Example 2: Passenger inside taxi - To be dropped at location: 2\n",
      "+---------+\n",
      "|R: | : :G|\n",
      "| : | : : |\n",
      "|\u001b[42m_\u001b[0m: : : : |\n",
      "| | : | : |\n",
      "|\u001b[35mY\u001b[0m| : |B: |\n",
      "+---------+\n",
      "  (Dropoff)\n",
      "Best Action: South \n",
      "Q-Value: 5.6\n",
      "\n",
      "--------------------------------------------------------\n",
      "\n",
      "Example 3: Passenger inside taxi - To be dropped at location: 3\n",
      "+---------+\n",
      "|R: | : :G|\n",
      "| : | : : |\n",
      "| : : :\u001b[42m_\u001b[0m: |\n",
      "| | : | : |\n",
      "|Y| : |\u001b[35mB\u001b[0m: |\n",
      "+---------+\n",
      "  (Dropoff)\n",
      "Best Action: South \n",
      "Q-Value: 5.6\n",
      "\n",
      "--------------------------------------------------------\n",
      "\n",
      "Example 4: Passenger inside taxi - To be dropped at location: 1\n",
      "+---------+\n",
      "|R: | : :\u001b[35mG\u001b[0m|\n",
      "| : | : : |\n",
      "| : : :\u001b[42m_\u001b[0m: |\n",
      "| | : | : |\n",
      "|Y| : |B: |\n",
      "+---------+\n",
      "  (Dropoff)\n",
      "Best Action: North \n",
      "Q-Value: 2.36\n",
      "\n",
      "--------------------------------------------------------\n",
      "\n"
     ]
    }
   ],
   "source": [
    "import pprint\n",
    "# Drop off and pick up locations are indexed from 0-3 for the four \n",
    "# different  locations.\n",
    "\n",
    "# Let's initiate first forced state:\n",
    "# Taxi at: (2,0), Passenger inside the taxi and Drop Off at R(0)(Pink)\n",
    "\n",
    "statesList = [[2,0,4,0], [2,0,4,2], [2,3,4,3], [2,3,4,1]]\n",
    "Actions = [\"South\", \"North\", \"East\", \"West\", \"PickUp\", \"DropOff\"]\n",
    "exampleCount = 0\n",
    "\n",
    "for state in statesList:\n",
    "    exampleCount += 1\n",
    "    exampleState = env.encode(*state)\n",
    "    print\"Example {}: Passenger inside taxi - To be dropped at location: {}\".format(exampleCount, state[3])\n",
    "    env.s = exampleState # set the environment\n",
    "    env.render()\n",
    "\n",
    "    # Let's see the possible action space in this state\n",
    "    env.P[exampleState]\n",
    "    \n",
    "    stateAction = dict(zip(Actions, q_table[exampleState]))\n",
    "    max_key = max(stateAction, key=stateAction.get)\n",
    "    print \"Best Action:\", max_key, \"\\nQ-Value:\",round(stateAction[max_key], 2)\n",
    "\n",
    "    print \"\\n--------------------------------------------------------\\n\""
   ]
  },
  {
   "cell_type": "markdown",
   "metadata": {},
   "source": [
    "<p style='text-align: justify;'>\n",
    "As we can see after the training has been completed, the cab agent is able to predict the best step to reach destination accurately.\n",
    "\n",
    "1. In example 1, cab with the passenger is at (2,0). Dropping destination for the case is R(0). The most sensible step is to move north. The model predicts this accurately as:\n",
    "\n",
    "| Best Action | || | Q-Value\n",
    "| --- | ---| --- |\n",
    "| North | || | 5.6 |\n",
    "\n",
    "2. In example 3, cab with the passenger is at (2,3). Dropping destination for the case is B(3). The most sensible step is to move South. The model predicts this accurately as:\n",
    "\n",
    "| Best Action | || | Q-Value\n",
    "| --- | ---| --- |\n",
    "| South | || | 5.6 |\n",
    "\n",
    "3. Similarly, in example 4, can is at (2,3) with the passenger inside. The dropping destination for the case is G(1). Both North and East have same q-values in this case, 2.36. Thus, the model hasn't overfit and predicts both the correct paths successfully. \n",
    "</p>"
   ]
  },
  {
   "cell_type": "markdown",
   "metadata": {},
   "source": [
    "### 6: Evaluating agent's performance after training.\n",
    "\n",
    "<p style='text-align: justify;'>\n",
    "Now we want to test our model on finding best routes between checkpoints and analyze penalties it is adding, if any!\n",
    "</p>"
   ]
  },
  {
   "cell_type": "code",
   "execution_count": 15,
   "metadata": {},
   "outputs": [
    {
     "name": "stdout",
     "output_type": "stream",
     "text": [
      "+---------+\n",
      "|R: | : :\u001b[35m\u001b[34;1m\u001b[43mG\u001b[0m\u001b[0m\u001b[0m|\n",
      "| : | : : |\n",
      "| : : : : |\n",
      "| | : | : |\n",
      "|Y| : |B: |\n",
      "+---------+\n",
      "  (Dropoff)\n",
      "\n",
      "\n",
      "Episode Number 100\n",
      "Timestep: 11\n",
      "State: 85\n",
      "Action: 5\n",
      "Reward: 20\n",
      "\n",
      "----------------- Test Results --------------------- \n",
      "\n",
      "Results after 100 episodes:\n",
      "Average timesteps per episode: 13\n",
      "Average penalties per episode: 0\n"
     ]
    }
   ],
   "source": [
    "total_epochs, total_penalties = 0, 0\n",
    "episodes = 100 # Give 100 tests to the agent.\n",
    "# frames = [] # for animation\n",
    "testRewards = [] # Analyzing performance\n",
    "\n",
    "sleep(5)\n",
    "\n",
    "for episode in range(episodes):\n",
    "    state = env.reset() # Reset the environment to a random new state\n",
    "    epochs, penalties, reward = 0, 0, 0\n",
    "    \n",
    "    done = False # Episode completed?\n",
    "    frames = []\n",
    "    episodeRewards = []\n",
    "    while not done: # While not dropped at correct destination\n",
    "        action = np.argmax(q_table[state]) # Choose best action for a given state\n",
    "        state, reward, done, info = env.step(action) # Get reward, new state and drop status\n",
    "\n",
    "        if reward == -10: # Increment penalties if occurred\n",
    "            penalties += 1\n",
    "\n",
    "        epochs += 1 # Keep track of timesteps required to successfully reach the destination.\n",
    "\n",
    "        # Put each rendered frame into dict for animation\n",
    "        frames.append({\n",
    "            'frame': env.render(mode='ansi'),\n",
    "            'state': state,\n",
    "            'action': action,\n",
    "            'reward': reward\n",
    "            }\n",
    "        )\n",
    "        episodeRewards.append(reward)\n",
    "    total_penalties += penalties\n",
    "    total_epochs += epochs\n",
    "    testRewards.append(np.mean(episodeRewards))\n",
    "    \n",
    "    # Visualize the current episode.\n",
    "    print_frames(frames, episode+1, True)\n",
    "    sleep(.50)\n",
    "    \n",
    "print\"\\n----------------- Test Results --------------------- \\n\"\n",
    "print(\"Results after {} episodes:\".format(episodes))\n",
    "print(\"Average timesteps per episode: {}\".format(total_epochs / episodes))\n",
    "print(\"Average penalties per episode: {}\".format(total_penalties / episodes))"
   ]
  },
  {
   "cell_type": "markdown",
   "metadata": {},
   "source": [
    "### Test Results\n",
    "\n",
    "<p style='text-align: justify;'>\n",
    "\n",
    "* We can see from the evaluation, the agent's performance improved significantly and it incurred no penalties, which means it performed the correct pickup/dropoff actions with 100 different passengers.\n",
    "\n",
    "* Timesteps taken to reach destination has also reduced significantly, around 12 for each trip, which is what we would expect from a trained driver.\n",
    "\n",
    "* Thus, we see that cab agent learns to navigate in the grid city smoothly without incurring any penalties.\n",
    "</p>"
   ]
  }
 ],
 "metadata": {
  "kernelspec": {
   "display_name": "Python 3",
   "language": "python",
   "name": "python3"
  },
  "language_info": {
   "codemirror_mode": {
    "name": "ipython",
    "version": 2
   },
   "file_extension": ".py",
   "mimetype": "text/x-python",
   "name": "python",
   "nbconvert_exporter": "python",
   "pygments_lexer": "ipython2",
   "version": "2.7.17"
  }
 },
 "nbformat": 4,
 "nbformat_minor": 4
}
